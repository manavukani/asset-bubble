{
 "cells": [
  {
   "cell_type": "code",
   "execution_count": 30,
   "metadata": {},
   "outputs": [],
   "source": [
    "import pandas as pd\n",
    "import numpy as np \n",
    "from sklearn.model_selection import train_test_split\n",
    "from sklearn import metrics\n",
    "from sklearn.model_selection import GridSearchCV\n",
    "from sklearn.pipeline import make_pipeline"
   ]
  },
  {
   "cell_type": "code",
   "execution_count": 18,
   "metadata": {},
   "outputs": [],
   "source": [
    "df=pd.read_csv('/home/abhaylal/Desktop/Projects/4406b380-4ee6-4320-955b-eb9e6e2f0f44/data-new.csv')"
   ]
  },
  {
   "cell_type": "code",
   "execution_count": 19,
   "metadata": {},
   "outputs": [],
   "source": [
    "df.drop(columns=['Unnamed: 0'],inplace=True)"
   ]
  },
  {
   "cell_type": "code",
   "execution_count": 20,
   "metadata": {},
   "outputs": [
    {
     "data": {
      "text/html": [
       "<div>\n",
       "<style scoped>\n",
       "    .dataframe tbody tr th:only-of-type {\n",
       "        vertical-align: middle;\n",
       "    }\n",
       "\n",
       "    .dataframe tbody tr th {\n",
       "        vertical-align: top;\n",
       "    }\n",
       "\n",
       "    .dataframe thead th {\n",
       "        text-align: right;\n",
       "    }\n",
       "</style>\n",
       "<table border=\"1\" class=\"dataframe\">\n",
       "  <thead>\n",
       "    <tr style=\"text-align: right;\">\n",
       "      <th></th>\n",
       "      <th>Unemployment</th>\n",
       "      <th>CPI</th>\n",
       "      <th>P/E</th>\n",
       "      <th>Open</th>\n",
       "      <th>High</th>\n",
       "      <th>Low</th>\n",
       "      <th>Close</th>\n",
       "      <th>Industrial Production</th>\n",
       "      <th>Treasury</th>\n",
       "      <th>Crash</th>\n",
       "      <th>year</th>\n",
       "      <th>month</th>\n",
       "    </tr>\n",
       "  </thead>\n",
       "  <tbody>\n",
       "    <tr>\n",
       "      <th>0</th>\n",
       "      <td>6.4</td>\n",
       "      <td>6.837607</td>\n",
       "      <td>8.28</td>\n",
       "      <td>93.82</td>\n",
       "      <td>95.15</td>\n",
       "      <td>88.02</td>\n",
       "      <td>89.25</td>\n",
       "      <td>47.8693</td>\n",
       "      <td>7.956190</td>\n",
       "      <td>0</td>\n",
       "      <td>1978</td>\n",
       "      <td>1</td>\n",
       "    </tr>\n",
       "    <tr>\n",
       "      <th>1</th>\n",
       "      <td>6.3</td>\n",
       "      <td>6.429780</td>\n",
       "      <td>8.16</td>\n",
       "      <td>89.93</td>\n",
       "      <td>91.32</td>\n",
       "      <td>86.58</td>\n",
       "      <td>87.04</td>\n",
       "      <td>48.1283</td>\n",
       "      <td>8.033333</td>\n",
       "      <td>0</td>\n",
       "      <td>1978</td>\n",
       "      <td>2</td>\n",
       "    </tr>\n",
       "    <tr>\n",
       "      <th>2</th>\n",
       "      <td>6.3</td>\n",
       "      <td>6.554622</td>\n",
       "      <td>8.13</td>\n",
       "      <td>87.19</td>\n",
       "      <td>91.35</td>\n",
       "      <td>86.45</td>\n",
       "      <td>89.21</td>\n",
       "      <td>49.0553</td>\n",
       "      <td>8.035909</td>\n",
       "      <td>0</td>\n",
       "      <td>1978</td>\n",
       "      <td>3</td>\n",
       "    </tr>\n",
       "    <tr>\n",
       "      <th>3</th>\n",
       "      <td>6.1</td>\n",
       "      <td>6.500000</td>\n",
       "      <td>8.41</td>\n",
       "      <td>88.46</td>\n",
       "      <td>97.91</td>\n",
       "      <td>88.07</td>\n",
       "      <td>96.83</td>\n",
       "      <td>50.0260</td>\n",
       "      <td>8.154000</td>\n",
       "      <td>0</td>\n",
       "      <td>1978</td>\n",
       "      <td>4</td>\n",
       "    </tr>\n",
       "    <tr>\n",
       "      <th>4</th>\n",
       "      <td>6.0</td>\n",
       "      <td>6.965174</td>\n",
       "      <td>8.75</td>\n",
       "      <td>97.67</td>\n",
       "      <td>100.32</td>\n",
       "      <td>94.57</td>\n",
       "      <td>97.24</td>\n",
       "      <td>50.2717</td>\n",
       "      <td>8.345714</td>\n",
       "      <td>0</td>\n",
       "      <td>1978</td>\n",
       "      <td>5</td>\n",
       "    </tr>\n",
       "    <tr>\n",
       "      <th>...</th>\n",
       "      <td>...</td>\n",
       "      <td>...</td>\n",
       "      <td>...</td>\n",
       "      <td>...</td>\n",
       "      <td>...</td>\n",
       "      <td>...</td>\n",
       "      <td>...</td>\n",
       "      <td>...</td>\n",
       "      <td>...</td>\n",
       "      <td>...</td>\n",
       "      <td>...</td>\n",
       "      <td>...</td>\n",
       "    </tr>\n",
       "    <tr>\n",
       "      <th>523</th>\n",
       "      <td>5.2</td>\n",
       "      <td>5.251272</td>\n",
       "      <td>26.23</td>\n",
       "      <td>4406.86</td>\n",
       "      <td>4537.36</td>\n",
       "      <td>4367.73</td>\n",
       "      <td>4522.68</td>\n",
       "      <td>100.8370</td>\n",
       "      <td>1.283182</td>\n",
       "      <td>0</td>\n",
       "      <td>2021</td>\n",
       "      <td>8</td>\n",
       "    </tr>\n",
       "    <tr>\n",
       "      <th>524</th>\n",
       "      <td>4.7</td>\n",
       "      <td>5.390349</td>\n",
       "      <td>24.39</td>\n",
       "      <td>4528.80</td>\n",
       "      <td>4545.85</td>\n",
       "      <td>4305.91</td>\n",
       "      <td>4307.54</td>\n",
       "      <td>99.8498</td>\n",
       "      <td>1.374762</td>\n",
       "      <td>0</td>\n",
       "      <td>2021</td>\n",
       "      <td>9</td>\n",
       "    </tr>\n",
       "    <tr>\n",
       "      <th>525</th>\n",
       "      <td>4.6</td>\n",
       "      <td>6.221869</td>\n",
       "      <td>24.52</td>\n",
       "      <td>4317.16</td>\n",
       "      <td>4608.08</td>\n",
       "      <td>4278.94</td>\n",
       "      <td>4605.38</td>\n",
       "      <td>101.3602</td>\n",
       "      <td>1.582500</td>\n",
       "      <td>0</td>\n",
       "      <td>2021</td>\n",
       "      <td>10</td>\n",
       "    </tr>\n",
       "    <tr>\n",
       "      <th>526</th>\n",
       "      <td>4.2</td>\n",
       "      <td>6.809003</td>\n",
       "      <td>23.63</td>\n",
       "      <td>4610.62</td>\n",
       "      <td>4743.83</td>\n",
       "      <td>4560.00</td>\n",
       "      <td>4567.00</td>\n",
       "      <td>101.9610</td>\n",
       "      <td>1.559500</td>\n",
       "      <td>0</td>\n",
       "      <td>2021</td>\n",
       "      <td>11</td>\n",
       "    </tr>\n",
       "    <tr>\n",
       "      <th>527</th>\n",
       "      <td>3.9</td>\n",
       "      <td>7.036403</td>\n",
       "      <td>23.11</td>\n",
       "      <td>4602.82</td>\n",
       "      <td>4808.93</td>\n",
       "      <td>4495.12</td>\n",
       "      <td>4766.18</td>\n",
       "      <td>101.7587</td>\n",
       "      <td>1.465000</td>\n",
       "      <td>0</td>\n",
       "      <td>2021</td>\n",
       "      <td>12</td>\n",
       "    </tr>\n",
       "  </tbody>\n",
       "</table>\n",
       "<p>528 rows × 12 columns</p>\n",
       "</div>"
      ],
      "text/plain": [
       "     Unemployment       CPI    P/E     Open     High      Low    Close  \\\n",
       "0             6.4  6.837607   8.28    93.82    95.15    88.02    89.25   \n",
       "1             6.3  6.429780   8.16    89.93    91.32    86.58    87.04   \n",
       "2             6.3  6.554622   8.13    87.19    91.35    86.45    89.21   \n",
       "3             6.1  6.500000   8.41    88.46    97.91    88.07    96.83   \n",
       "4             6.0  6.965174   8.75    97.67   100.32    94.57    97.24   \n",
       "..            ...       ...    ...      ...      ...      ...      ...   \n",
       "523           5.2  5.251272  26.23  4406.86  4537.36  4367.73  4522.68   \n",
       "524           4.7  5.390349  24.39  4528.80  4545.85  4305.91  4307.54   \n",
       "525           4.6  6.221869  24.52  4317.16  4608.08  4278.94  4605.38   \n",
       "526           4.2  6.809003  23.63  4610.62  4743.83  4560.00  4567.00   \n",
       "527           3.9  7.036403  23.11  4602.82  4808.93  4495.12  4766.18   \n",
       "\n",
       "     Industrial Production  Treasury  Crash  year  month  \n",
       "0                  47.8693  7.956190      0  1978      1  \n",
       "1                  48.1283  8.033333      0  1978      2  \n",
       "2                  49.0553  8.035909      0  1978      3  \n",
       "3                  50.0260  8.154000      0  1978      4  \n",
       "4                  50.2717  8.345714      0  1978      5  \n",
       "..                     ...       ...    ...   ...    ...  \n",
       "523               100.8370  1.283182      0  2021      8  \n",
       "524                99.8498  1.374762      0  2021      9  \n",
       "525               101.3602  1.582500      0  2021     10  \n",
       "526               101.9610  1.559500      0  2021     11  \n",
       "527               101.7587  1.465000      0  2021     12  \n",
       "\n",
       "[528 rows x 12 columns]"
      ]
     },
     "execution_count": 20,
     "metadata": {},
     "output_type": "execute_result"
    }
   ],
   "source": [
    "df"
   ]
  },
  {
   "cell_type": "code",
   "execution_count": 21,
   "metadata": {},
   "outputs": [
    {
     "data": {
      "text/plain": [
       "0    437\n",
       "1     91\n",
       "Name: Crash, dtype: int64"
      ]
     },
     "execution_count": 21,
     "metadata": {},
     "output_type": "execute_result"
    }
   ],
   "source": [
    "df['Crash'].value_counts()"
   ]
  },
  {
   "cell_type": "code",
   "execution_count": 22,
   "metadata": {},
   "outputs": [
    {
     "name": "stdout",
     "output_type": "stream",
     "text": [
      "<class 'pandas.core.frame.DataFrame'>\n",
      "RangeIndex: 528 entries, 0 to 527\n",
      "Data columns (total 12 columns):\n",
      " #   Column                 Non-Null Count  Dtype  \n",
      "---  ------                 --------------  -----  \n",
      " 0   Unemployment           528 non-null    float64\n",
      " 1   CPI                    528 non-null    float64\n",
      " 2   P/E                    528 non-null    float64\n",
      " 3   Open                   528 non-null    float64\n",
      " 4   High                   528 non-null    float64\n",
      " 5   Low                    528 non-null    float64\n",
      " 6   Close                  528 non-null    float64\n",
      " 7   Industrial Production  528 non-null    float64\n",
      " 8   Treasury               528 non-null    float64\n",
      " 9   Crash                  528 non-null    int64  \n",
      " 10  year                   528 non-null    int64  \n",
      " 11  month                  528 non-null    int64  \n",
      "dtypes: float64(9), int64(3)\n",
      "memory usage: 49.6 KB\n"
     ]
    }
   ],
   "source": [
    "df.info()"
   ]
  },
  {
   "cell_type": "code",
   "execution_count": 23,
   "metadata": {},
   "outputs": [],
   "source": [
    "x=df.drop(columns=\"Crash\")\n",
    "y=df[\"Crash\"]\n",
    "x_train,x_test,y_train,y_test=train_test_split(x,y)"
   ]
  },
  {
   "cell_type": "code",
   "execution_count": 24,
   "metadata": {},
   "outputs": [],
   "source": [
    "## Decision Tree Classifier\n",
    "from sklearn.tree import DecisionTreeClassifier"
   ]
  },
  {
   "cell_type": "code",
   "execution_count": 25,
   "metadata": {},
   "outputs": [
    {
     "name": "stdout",
     "output_type": "stream",
     "text": [
      "Accuracy:  0.8636363636363636\n"
     ]
    }
   ],
   "source": [
    "dcl=DecisionTreeClassifier()\n",
    "dcl.fit(x_train,y_train)\n",
    "y_pred=dcl.predict(x_test)\n",
    "print(\"Accuracy: \",metrics.accuracy_score(y_test,y_pred))"
   ]
  },
  {
   "cell_type": "code",
   "execution_count": 26,
   "metadata": {},
   "outputs": [],
   "source": [
    "## Logistic Regression\n",
    "from sklearn.linear_model import LogisticRegression\n"
   ]
  },
  {
   "cell_type": "code",
   "execution_count": 27,
   "metadata": {},
   "outputs": [
    {
     "name": "stdout",
     "output_type": "stream",
     "text": [
      "Accuracy:  0.8636363636363636\n"
     ]
    }
   ],
   "source": [
    "lr = LogisticRegression(random_state=0,max_iter=1000).fit(x_train, y_train)\n",
    "lr.predict(x_test)\n",
    "y_pred=lr.predict(x_test)\n",
    "print(\"Accuracy: \",metrics.accuracy_score(y_test,y_pred))\n"
   ]
  },
  {
   "cell_type": "code",
   "execution_count": 31,
   "metadata": {},
   "outputs": [],
   "source": [
    "## SVM Classifier\n",
    "from sklearn.svm import SVC\n",
    "from sklearn.preprocessing import StandardScaler\n"
   ]
  },
  {
   "cell_type": "code",
   "execution_count": 32,
   "metadata": {},
   "outputs": [
    {
     "name": "stdout",
     "output_type": "stream",
     "text": [
      "Accuracy:  0.8712121212121212\n"
     ]
    }
   ],
   "source": [
    "sv=make_pipeline(StandardScaler(), SVC(gamma='auto',kernel='rbf'))\n",
    "sv.fit(x_train,y_train)\n",
    "y_pred=sv.predict(x_test)\n",
    "print(\"Accuracy: \",metrics.accuracy_score(y_test,y_pred))"
   ]
  },
  {
   "cell_type": "code",
   "execution_count": 33,
   "metadata": {},
   "outputs": [],
   "source": [
    "## Random Forest Classifier\n",
    "from sklearn.ensemble import RandomForestClassifier"
   ]
  },
  {
   "cell_type": "code",
   "execution_count": 34,
   "metadata": {},
   "outputs": [
    {
     "name": "stdout",
     "output_type": "stream",
     "text": [
      "Accuracy:  0.9242424242424242\n"
     ]
    }
   ],
   "source": [
    "rf = RandomForestClassifier(n_estimators=500)\n",
    "rf.fit(x_train,y_train)\n",
    "y_pred=rf.predict(x_test)\n",
    "print(\"Accuracy: \",metrics.accuracy_score(y_test,y_pred))"
   ]
  },
  {
   "cell_type": "code",
   "execution_count": null,
   "metadata": {},
   "outputs": [],
   "source": []
  },
  {
   "cell_type": "code",
   "execution_count": null,
   "metadata": {},
   "outputs": [],
   "source": []
  }
 ],
 "metadata": {
  "kernelspec": {
   "display_name": "Python 3.10.6 64-bit",
   "language": "python",
   "name": "python3"
  },
  "language_info": {
   "codemirror_mode": {
    "name": "ipython",
    "version": 3
   },
   "file_extension": ".py",
   "mimetype": "text/x-python",
   "name": "python",
   "nbconvert_exporter": "python",
   "pygments_lexer": "ipython3",
   "version": "3.10.6"
  },
  "orig_nbformat": 4,
  "vscode": {
   "interpreter": {
    "hash": "916dbcbb3f70747c44a77c7bcd40155683ae19c65e1c03b4aa3499c5328201f1"
   }
  }
 },
 "nbformat": 4,
 "nbformat_minor": 2
}
